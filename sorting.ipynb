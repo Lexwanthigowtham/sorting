{
 "cells": [
  {
   "cell_type": "code",
   "execution_count": null,
   "id": "35dfd1fd-761a-412a-998e-03819671b0c3",
   "metadata": {},
   "outputs": [],
   "source": [
    "#1.\n",
    "'''Let T (n) be time taken to find the maximum of n elements. So, for above written code. T (n) = T (n-1) + 1 .... \n",
    "Equation I T (n-1) = T ( (n-1)-1) + 1 = T (n-2) + 1 .... \n",
    "Equation II If you substitute value of T (n-1) from Equation II into Equation I, you get: and so on..\n",
    "If n-k = 0, means n = k.'''"
   ]
  },
  {
   "cell_type": "code",
   "execution_count": 3,
   "id": "9675bc04-043b-4864-ad89-c610b0f9d7ea",
   "metadata": {},
   "outputs": [
    {
     "name": "stdout",
     "output_type": "stream",
     "text": [
      "5\n"
     ]
    }
   ],
   "source": [
    "#2. Find Missing Element\n",
    "def findMissing(arr, N):\n",
    "   \n",
    "    # create a list of zeroes\n",
    "    temp = [0] * (N+1)\n",
    " \n",
    "    for i in range(0, N):\n",
    "        temp[arr[i] - 1] = 1\n",
    " \n",
    "    for i in range(0, N+1):\n",
    "        if(temp[i] == 0):\n",
    "            ans = i + 1\n",
    " \n",
    "    print(ans)\n",
    " \n",
    "# Driver code\n",
    "if __name__ == '__main__':\n",
    "    arr = [1,2,4,6,3,7,8]\n",
    "    N = len(arr)\n",
    " \n",
    "    # Function call\n",
    "    findMissing(arr, N)"
   ]
  },
  {
   "cell_type": "code",
   "execution_count": 4,
   "id": "1d81643e-7cd5-457d-95ec-832b8ad63a62",
   "metadata": {},
   "outputs": [
    {
     "name": "stdout",
     "output_type": "stream",
     "text": [
      "Element occurring once is 2\n"
     ]
    }
   ],
   "source": [
    "#3.Python code to find the array element that appears only once \n",
    "  \n",
    "# Function to find the array \n",
    "# element that appears only once \n",
    "def findSingle(A, ar_size): \n",
    "    \n",
    "    # iterate over every element \n",
    "    for i in range(ar_size): \n",
    "        \n",
    "        # Initialize count to 0 \n",
    "        count = 0\n",
    "        for j in range(ar_size): \n",
    "            \n",
    "            # Count the frequency \n",
    "            # of the element \n",
    "            if(A[i] == A[j]): \n",
    "                count += 1\n",
    "  \n",
    "        # If the frequency of \n",
    "        # the element is one \n",
    "        if(count == 1): \n",
    "            return A[i] \n",
    "            \n",
    "    # If no element exist \n",
    "    # at most once \n",
    "    return -1\n",
    "  \n",
    "ar = [2, 3, 5, 4, 5, 3, 4] \n",
    "n = len(ar) \n",
    "# Function call \n",
    "print(\"Element occurring once is\", findSingle(ar, n))"
   ]
  },
  {
   "cell_type": "code",
   "execution_count": 5,
   "id": "dfb5af06-fe69-4296-a13b-59e325ff83e8",
   "metadata": {},
   "outputs": [
    {
     "name": "stdout",
     "output_type": "stream",
     "text": [
      "Pair elements are 4 and 11\n"
     ]
    }
   ],
   "source": [
    "#5.\n",
    "def checkPair(arr, n):\n",
    "    s = set()\n",
    "    sum = 0\n",
    " \n",
    "    # Find sum of whole array \n",
    "    for i in range(n):\n",
    "        sum += arr[i]\n",
    "     \n",
    "    # / If sum of array is not \n",
    "    # even then we can not \n",
    "    # divide it into two part \n",
    "    if sum % 2 != 0:\n",
    "        return False\n",
    "    sum = sum / 2\n",
    " \n",
    "    # For each element arr[i], see if \n",
    "    # there is another element with \n",
    "    # value sum - arr[i] \n",
    "    for i in range(n):\n",
    "        val = sum - arr[i]\n",
    "        if arr[i] not in s:\n",
    "            s.add(arr[i])\n",
    "             \n",
    "        # If element exist than \n",
    "        # return the pair \n",
    "        if val in s:\n",
    "            print(\"Pair elements are\", \n",
    "                   arr[i], \"and\", int(val))\n",
    " \n",
    "# Driver Code \n",
    "arr = [2, 11, 5, 1, 4, 7]\n",
    "n = len(arr)\n",
    "if checkPair(arr, n) == False:\n",
    "    print(\"No pair found\")"
   ]
  },
  {
   "cell_type": "code",
   "execution_count": 6,
   "id": "f35aa7e8-2f7f-4b84-936d-06775f263c02",
   "metadata": {},
   "outputs": [
    {
     "name": "stdout",
     "output_type": "stream",
     "text": [
      "The two elements whose sum is minimum are -80 and  85\n"
     ]
    }
   ],
   "source": [
    "#5.\n",
    "def minAbsSumPair(arr,arr_size):\n",
    "    inv_count = 0\n",
    " \n",
    "    # Array should have at least\n",
    "    # two elements\n",
    "    if arr_size < 2:\n",
    "        print(\"Invalid Input\")\n",
    "        return\n",
    " \n",
    "    # Initialization of values \n",
    "    min_l = 0\n",
    "    min_r = 1\n",
    "    min_sum = arr[0] + arr[1]\n",
    "    for l in range (0, arr_size - 1):\n",
    "        for r in range (l + 1, arr_size):\n",
    "            sum = arr[l] + arr[r]                 \n",
    "            if abs(min_sum) > abs(sum):         \n",
    "                min_sum = sum\n",
    "                min_l = l\n",
    "                min_r = r\n",
    " \n",
    "    print(\"The two elements whose sum is minimum are\", \n",
    "            arr[min_l], \"and \", arr[min_r])\n",
    " \n",
    "# Driver program to test above function \n",
    "arr = [1, 60, -10, 70, -80, 85]\n",
    " \n",
    "minAbsSumPair(arr, 6);"
   ]
  },
  {
   "cell_type": "code",
   "execution_count": 7,
   "id": "605d9a85-1e0c-4aa4-9a69-e823172f9fdc",
   "metadata": {},
   "outputs": [
    {
     "name": "stdout",
     "output_type": "stream",
     "text": [
      "0 -1 1\n",
      "2 -3 1\n"
     ]
    }
   ],
   "source": [
    "#6.\n",
    "def findTriplets(arr, n):\n",
    " \n",
    "    found = False\n",
    "    for i in range(0, n-2):\n",
    " \n",
    "        for j in range(i+1, n-1):\n",
    " \n",
    "            for k in range(j+1, n):\n",
    " \n",
    "                if (arr[i] + arr[j] + arr[k] == 0):\n",
    "                    print(arr[i], arr[j], arr[k])\n",
    "                    found = True\n",
    " \n",
    "    # If no triplet with 0 sum\n",
    "    # found in array\n",
    "    if (found == False):\n",
    "        print(\" not exist \")\n",
    " \n",
    " \n",
    "# Driver code\n",
    "arr = [0, -1, 2, -3, 1]\n",
    "n = len(arr)\n",
    "findTriplets(arr, n)\n",
    " "
   ]
  },
  {
   "cell_type": "code",
   "execution_count": 8,
   "id": "dfd703e0-0893-431a-b286-1d20b9bc0443",
   "metadata": {},
   "outputs": [
    {
     "name": "stdout",
     "output_type": "stream",
     "text": [
      "1 2 3\n"
     ]
    }
   ],
   "source": [
    "#7.\n",
    "def FindTrip(arr, N):\n",
    "     \n",
    "    # Traverse the given array\n",
    "    for i in range(1, N - 1):\n",
    "         \n",
    "        # Stores current element\n",
    "        p = arr[i - 1]\n",
    " \n",
    "        # Stores element just before\n",
    "        # the current element\n",
    "        q = arr[i]\n",
    " \n",
    "        # Stores element just after\n",
    "        # the current element\n",
    "        r = arr[i + 1]\n",
    " \n",
    "        # Check the given conditions\n",
    "        if (p < q and q > r):\n",
    " \n",
    "            # Print a triplet\n",
    "            print(i - 1, i, i + 1)\n",
    " \n",
    "            return\n",
    " \n",
    "    # If no triplet found\n",
    "    print(-1)\n",
    " \n",
    "# Driver Code\n",
    "if __name__ == '__main__':\n",
    "     \n",
    "    arr = [ 2, 1, 4, 3 ]\n",
    " \n",
    "    N = len(arr)\n",
    " \n",
    "    FindTrip(arr, N)"
   ]
  },
  {
   "cell_type": "code",
   "execution_count": 9,
   "id": "befc4188-a84d-427f-bb80-119f6dc9d923",
   "metadata": {},
   "outputs": [
    {
     "name": "stdout",
     "output_type": "stream",
     "text": [
      "1\n"
     ]
    }
   ],
   "source": [
    "#8.\n",
    "def findMajority(arr, n):\n",
    " \n",
    "    maxCount = 0\n",
    "    index = -1  # sentinels\n",
    "    for i in range(n):\n",
    " \n",
    "        count = 1\n",
    "        # here we compare the element in \n",
    "        # ith position with i+1th position\n",
    "        for j in range(i+1, n):\n",
    " \n",
    "            if(arr[i] == arr[j]):\n",
    "                count += 1\n",
    " \n",
    "        # update maxCount if count of\n",
    "        # current element is greater\n",
    "        if(count > maxCount):\n",
    " \n",
    "            maxCount = count\n",
    "            index = i\n",
    " \n",
    "    # if maxCount is greater than n/2\n",
    "    # return the corresponding element\n",
    "    if (maxCount > n//2):\n",
    "        print(arr[index])\n",
    " \n",
    "    else:\n",
    "        print(\"No Majority Element\")\n",
    " \n",
    " \n",
    "# Driver code\n",
    "if __name__ == \"__main__\":\n",
    "    arr = [1, 1, 2, 1, 3, 5, 1]\n",
    "    n = len(arr)\n",
    " \n",
    "    # Function calling\n",
    "    findMajority(arr, n)\n",
    " "
   ]
  },
  {
   "cell_type": "code",
   "execution_count": 10,
   "id": "fdf56714-71ea-4b7e-9a49-c215fa7e3c8f",
   "metadata": {},
   "outputs": [
    {
     "name": "stdout",
     "output_type": "stream",
     "text": [
      "Index of row with maximum 1s is 2\n"
     ]
    }
   ],
   "source": [
    "#9.# Python implementation of the approach\n",
    "R,C = 4,4\n",
    " \n",
    "# Function to find the index of first index \n",
    "# of 1 in a boolean array arr \n",
    "def first(arr , low , high): \n",
    " \n",
    "    if(high >= low): \n",
    " \n",
    "        # Get the middle index \n",
    "        mid = low + (high - low)//2\n",
    "     \n",
    "        # Check if the element at middle index is first 1 \n",
    "        if ( ( mid == 0 or arr[mid-1] == 0) and arr[mid] == 1): \n",
    "            return mid \n",
    "     \n",
    "        # If the element is 0, recur for right side \n",
    "        elif (arr[mid] == 0): \n",
    "            return first(arr, (mid + 1), high); \n",
    "         \n",
    "        # If element is not first 1, recur for left side \n",
    "        else:\n",
    "            return first(arr, low, (mid -1)); \n",
    " \n",
    "    return -1\n",
    " \n",
    "# Function that returns index of row \n",
    "# with maximum number of 1s. \n",
    "def rowWithMax1s(mat): \n",
    " \n",
    "    # Initialize max values \n",
    "    max_row_index,Max = 0,-1\n",
    " \n",
    "    # Traverse for each row and count number of 1s \n",
    "    # by finding the index of first 1 \n",
    "    for i in range(R):\n",
    " \n",
    "        index = first (mat[i], 0, C-1)\n",
    "        if (index != -1 and C-index > Max):\n",
    "            Max = C - index; \n",
    "            max_row_index = i\n",
    " \n",
    "    return max_row_index \n",
    " \n",
    "# Driver Code\n",
    "mat = [[0, 0, 0, 1], \n",
    "       [0, 1, 1, 1], \n",
    "       [1, 1, 1, 1], \n",
    "       [0, 0, 0, 0]]\n",
    "print(\"Index of row with maximum 1s is \" + str(rowWithMax1s(mat)))\n",
    " "
   ]
  },
  {
   "cell_type": "code",
   "execution_count": 11,
   "id": "6b0831e6-7497-437a-93a4-9a3cf6d154c9",
   "metadata": {},
   "outputs": [
    {
     "name": "stdout",
     "output_type": "stream",
     "text": [
      "Yes\n"
     ]
    }
   ],
   "source": [
    "#10.\n",
    "\n",
    "def isSubSequence(string1, string2, m, n):\n",
    "    # Base Cases\n",
    "    if m == 0:\n",
    "        return True\n",
    "    if n == 0:\n",
    "        return False\n",
    " \n",
    "    # If last characters of two\n",
    "    # strings are matching\n",
    "    if string1[m-1] == string2[n-1]:\n",
    "        return isSubSequence(string1, string2, m-1, n-1)\n",
    " \n",
    "    # If last characters are not matching\n",
    "    return isSubSequence(string1, string2, m, n-1)\n",
    " \n",
    " \n",
    "# Driver program to test the above function\n",
    "string1 = \"gksrek\"\n",
    "string2 = \"geeksforgeeks\"\n",
    " \n",
    "if isSubSequence(string1, string2, len(string1), len(string2)):\n",
    "    print(\"Yes\")\n",
    "else:\n",
    "    print(\"No\")"
   ]
  },
  {
   "cell_type": "markdown",
   "id": "1ebb1aed-85d8-477e-b463-2c1cda20bccc",
   "metadata": {},
   "source": [
    "# THANKYOU\n"
   ]
  },
  {
   "cell_type": "code",
   "execution_count": null,
   "id": "552a1d9b-ff64-45fc-80ae-a3f4e78b8b19",
   "metadata": {},
   "outputs": [],
   "source": []
  }
 ],
 "metadata": {
  "kernelspec": {
   "display_name": "Python 3 (ipykernel)",
   "language": "python",
   "name": "python3"
  },
  "language_info": {
   "codemirror_mode": {
    "name": "ipython",
    "version": 3
   },
   "file_extension": ".py",
   "mimetype": "text/x-python",
   "name": "python",
   "nbconvert_exporter": "python",
   "pygments_lexer": "ipython3",
   "version": "3.10.8"
  }
 },
 "nbformat": 4,
 "nbformat_minor": 5
}
